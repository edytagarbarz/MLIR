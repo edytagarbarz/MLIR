{
 "cells": [
  {
   "cell_type": "code",
   "execution_count": null,
   "metadata": {},
   "outputs": [],
   "source": [
    "import pandas as pd\n",
    "import pyterrier as pt\n",
    "if not pt.started():\n",
    "    pt.init()\n",
    "\n",
    "from googletrans import Translator\n",
    "translator = Translator()"
   ]
  },
  {
   "cell_type": "code",
   "execution_count": 3,
   "metadata": {},
   "outputs": [],
   "source": [
    "def translate_topics(topics, dest):\n",
    "    translated =  topics.apply(lambda x : translator.translate(x.title + '. ' + x.description, dest=dest).text.replace('?','').replace('/','').replace(\"'\", \" \"), axis=1)\n",
    "    df = pd.DataFrame(translated, columns=['query'])\n",
    "    df['qid'] = topics['qid']\n",
    "    return df"
   ]
  },
  {
   "cell_type": "code",
   "execution_count": 6,
   "metadata": {},
   "outputs": [],
   "source": [
    "def run_baselines(index_path, human_translated_topics, machine_translated_topics, qrels, bm25_parameters, dlm_parameters, eval_metrics):\n",
    "    index_ref = pt.IndexRef.of(index_path)\n",
    "    index = pt.IndexFactory.of(index_ref)\n",
    "    bm25 = pt.BatchRetrieve(index, wmodel=\"BM25\", controls = bm25_parameters)\n",
    "    dlm = pt.BatchRetrieve(index, wmodel=\"DirichletLM\", controls = dlm_parameters)\n",
    "    bm25_results = bm25(machine_translated_topics)\n",
    "    dlm_results = dlm(machine_translated_topics)\n",
    "    print('-- Human translation --')\n",
    "    display(pt.Experiment(\n",
    "        retr_systems=[bm25, dlm],\n",
    "        names=['BM25', 'DLM'],\n",
    "        topics=human_translated_topics,\n",
    "        qrels=qrels,\n",
    "        eval_metrics=eval_metrics))\n",
    "    print('-- Machine translation --')\n",
    "    display(pt.Experiment(\n",
    "        retr_systems=[bm25_results, dlm_results],\n",
    "        names=['BM25', 'DLM'],\n",
    "        topics=machine_translated_topics,\n",
    "        qrels=qrels,\n",
    "        eval_metrics=eval_metrics))"
   ]
  }
 ],
 "metadata": {
  "interpreter": {
   "hash": "31f2aee4e71d21fbe5cf8b01ff0e069b9275f58929596ceb00d14d90e3e16cd6"
  },
  "kernelspec": {
   "display_name": "Python 3.8.10 64-bit",
   "language": "python",
   "name": "python3"
  },
  "language_info": {
   "codemirror_mode": {
    "name": "ipython",
    "version": 3
   },
   "file_extension": ".py",
   "mimetype": "text/x-python",
   "name": "python",
   "nbconvert_exporter": "python",
   "pygments_lexer": "ipython3",
   "version": "3.8.10"
  },
  "orig_nbformat": 4
 },
 "nbformat": 4,
 "nbformat_minor": 2
}
