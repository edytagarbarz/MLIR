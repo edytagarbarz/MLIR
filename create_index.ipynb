{
 "cells": [
  {
   "cell_type": "code",
   "execution_count": null,
   "metadata": {},
   "outputs": [],
   "source": [
    "# Update according to the corpora directory \n",
    "corpora_path = \"\""
   ]
  },
  {
   "cell_type": "code",
   "execution_count": null,
   "metadata": {},
   "outputs": [],
   "source": [
    "import pyterrier as pt\n",
    "import os\n",
    "from xml.dom import minidom\n",
    "if not pt.started():\n",
    "    pt.init()"
   ]
  },
  {
   "cell_type": "code",
   "execution_count": 15,
   "metadata": {},
   "outputs": [],
   "source": [
    "\n",
    "corpora_german = [\"SDA1995\", \"SDA1994\", 'SPIEGEL1995','SPIEGEL1994','FRANKFURTER1994']\n",
    "corpora_english = [\"LATIMES1994\", \"GLASGOW1995\"]\n",
    "corpora_spanish = [\"EFE1994\", \"EFE1995\"]\n",
    "corpora_french = [\"LEMONDE1994\", \"ATS1994\", \"ATS1995\"]\n",
    "corpora_italian = ['LASTAMPA1994', 'AGZ1994', 'AGZ1995']\n",
    "corpora_english_2001 = [\"LATIMES1994\"]\n",
    "corpora_italian_2001 = ['LASTAMPA1994', 'AGZ1994']\n",
    "corpora_spanish_2001 = [\"EFE1994\"]\n",
    "corpora_german_2001 = [ \"SDA1994\", 'SPIEGEL1995','SPIEGEL1994','FRANKFURTER1994']\n",
    "corpora_french_2001 = [\"LEMONDE1994\", \"ATS1994\"]"
   ]
  },
  {
   "cell_type": "code",
   "execution_count": 4,
   "metadata": {},
   "outputs": [],
   "source": [
    "def read_xml(path):\n",
    "    with open(path, 'r') as f:\n",
    "        data = f.read()\n",
    "        data_esc = data.replace('&', ' ')\n",
    "        return minidom.parseString(data_esc)"
   ]
  },
  {
   "cell_type": "code",
   "execution_count": 5,
   "metadata": {},
   "outputs": [],
   "source": [
    "def read_LATIMES(path):\n",
    "    try:\n",
    "        doc = read_xml(path)\n",
    "    except Exception as e:\n",
    "        print(e, docno)\n",
    "        return {'docno' : '', 'text' : ''}\n",
    "    headline = []\n",
    "    for e in doc.getElementsByTagName('HEADLINE'):\n",
    "        headline += [eh.firstChild.data for eh in e.getElementsByTagName('P') if eh.firstChild is not None]\n",
    "    text = []\n",
    "    for e in doc.getElementsByTagName('TEXT'):\n",
    "        text += [eh.firstChild.data for eh in e.getElementsByTagName('P') if eh.firstChild is not None]\n",
    "    docno =[e.firstChild.data for e in  doc.getElementsByTagName('DOCNO')]\n",
    "    return {'docno' : ' '.join(docno), 'text' : ' '.join(headline + text)}"
   ]
  },
  {
   "cell_type": "code",
   "execution_count": 6,
   "metadata": {},
   "outputs": [],
   "source": [
    "def read_GLASGOW(path):\n",
    "    try:\n",
    "        doc = read_xml(path)\n",
    "    except Exception as e:\n",
    "        print(e, docno)\n",
    "        return {'docno' : '', 'text' : ''}\n",
    "    headline = [eh.firstChild.data for eh in doc.getElementsByTagName('HEADLINE') if eh.firstChild is not None]\n",
    "    text = [eh.firstChild.data for eh in doc.getElementsByTagName('TEXT') if eh.firstChild is not None]\n",
    "    docno =[e.firstChild.data for e in  doc.getElementsByTagName('DOCNO')]\n",
    "    return {'docno' : ' '.join(docno), 'text' : ' '.join(headline + text)}"
   ]
  },
  {
   "cell_type": "code",
   "execution_count": 7,
   "metadata": {},
   "outputs": [],
   "source": [
    "def read_SDA(path):\n",
    "    try:\n",
    "        doc = read_xml(path)\n",
    "    except Exception as e:\n",
    "        print(e, docno)\n",
    "        return {'docno' : '', 'text' : ''}\n",
    "    title = [e.firstChild.data for e in doc.getElementsByTagName('TI')]\n",
    "    keywords = [e.firstChild.data for e in doc.getElementsByTagName('KW')]\n",
    "    abstract = [e.firstChild.data for e in doc.getElementsByTagName('LD')]\n",
    "    text = [e.firstChild.data for e in doc.getElementsByTagName('TX')]\n",
    "    docno =[e.firstChild.data for e in  doc.getElementsByTagName('DOCNO')]\n",
    "    return {'docno' : ' '.join(docno), 'text' : ' '.join(keywords + title + abstract + text)}"
   ]
  },
  {
   "cell_type": "code",
   "execution_count": 8,
   "metadata": {},
   "outputs": [],
   "source": [
    "def read_ATS(path):\n",
    "    try:\n",
    "        doc = read_xml(path)\n",
    "    except Exception as e:\n",
    "        print(e, docno)\n",
    "        return {'docno' : '', 'text' : ''}\n",
    "    title = [e.firstChild.data for e in doc.getElementsByTagName('TI')]\n",
    "    keywords = [e.firstChild.data for e in doc.getElementsByTagName('KW')]\n",
    "    abstract = [e.firstChild.data for e in doc.getElementsByTagName('LD')]\n",
    "    text = [e.firstChild.data for e in doc.getElementsByTagName('TX')]\n",
    "    docno =[e.firstChild.data for e in  doc.getElementsByTagName('DOCNO')]\n",
    "    return {'docno' : ' '.join(docno), 'text' : ' '.join(keywords + title + abstract + text)}"
   ]
  },
  {
   "cell_type": "code",
   "execution_count": 9,
   "metadata": {},
   "outputs": [],
   "source": [
    "def read_EFE(path):\n",
    "    try:\n",
    "        doc = read_xml(path)\n",
    "    except Exception as e:\n",
    "        print(e, docno)\n",
    "        return {'docno' : '', 'text' : ''}\n",
    "    title = [e.firstChild.data for e in doc.getElementsByTagName('TITLE') if e.firstChild is not None]\n",
    "    text = [e.firstChild.data for e in doc.getElementsByTagName('TEXT')if e.firstChild is not None]\n",
    "    docno =[e.firstChild.data for e in  doc.getElementsByTagName('DOCNO') if e.firstChild is not None]\n",
    "    return {'docno' : ' '.join(docno), 'text' : ' '.join( title + text)}"
   ]
  },
  {
   "cell_type": "code",
   "execution_count": 10,
   "metadata": {},
   "outputs": [],
   "source": [
    "def read_LEMONDE(path):\n",
    "    global bad_docs\n",
    "    try:\n",
    "        doc = read_xml(path)\n",
    "    except Exception as e:\n",
    "        print(e, docno)\n",
    "        bad_docs.append(path)\n",
    "        return {'docno' : '', 'text' : ''}\n",
    "    title = [e.firstChild.data for e in doc.getElementsByTagName('TITLE') if e.firstChild is not None]\n",
    "    keywords = [e.firstChild.data for e in doc.getElementsByTagName('SUBJECTS') if e.firstChild is not None]\n",
    "    text = [e.firstChild.data for e in doc.getElementsByTagName('TEXT')if e.firstChild is not None]\n",
    "    docno =[e.firstChild.data for e in  doc.getElementsByTagName('DOCNO') if e.firstChild is not None]\n",
    "    return {'docno' : ' '.join(docno), 'text' : ' '.join( title + keywords + text)}"
   ]
  },
  {
   "cell_type": "code",
   "execution_count": 11,
   "metadata": {},
   "outputs": [],
   "source": [
    "def read_FRANKFURTER(path):\n",
    "    global bad_docs\n",
    "\n",
    "    try:\n",
    "        doc = minidom.parse(path)\n",
    "    except Exception as e:\n",
    "        print(e, docno)\n",
    "        return {'docno' : '', 'text' : ''}\n",
    "    title = [e.firstChild.data for e in doc.getElementsByTagName('TITLE') if e.firstChild is not None]\n",
    "    text = [e.firstChild.data for e in doc.getElementsByTagName('TEXT')if e.firstChild is not None]\n",
    "    docno =[e.firstChild.data for e in  doc.getElementsByTagName('DOCNO')if e.firstChild is not None]\n",
    "    return {'docno' : ' '.join(docno), 'text' : ' '.join(title + text)}"
   ]
  },
  {
   "cell_type": "code",
   "execution_count": 12,
   "metadata": {},
   "outputs": [],
   "source": [
    "def read_SPIEGEL(path):\n",
    "    try:\n",
    "        doc = minidom.parse(path)\n",
    "    except:\n",
    "        bad += 1\n",
    "        return {'docno' : '', 'text' : ''}\n",
    "    title = [e.firstChild.data for e in doc.getElementsByTagName('TITLE') if e is not None]\n",
    "    text = [e.firstChild.data for e in doc.getElementsByTagName('TEXT')]\n",
    "    docno =[e.firstChild.data for e in  doc.getElementsByTagName('DOCNO')]\n",
    "    return {'docno' : ' '.join(docno), 'text' : ' '.join(title + text)}"
   ]
  },
  {
   "cell_type": "code",
   "execution_count": 13,
   "metadata": {},
   "outputs": [],
   "source": [
    "def read_LASTAMPA(path):\n",
    "    try:\n",
    "        doc = minidom.parse(path)\n",
    "    except:\n",
    "        bad += 1\n",
    "        return {'docno' : '', 'text' : ''}\n",
    "    keywords = [e.firstChild.data for e in doc.getElementsByTagName('ARGUMENTS') if e.firstChild is not None]\n",
    "    title = [e.firstChild.data for e in doc.getElementsByTagName('TITLE') if e is not None]\n",
    "    text = [e.firstChild.data for e in doc.getElementsByTagName('TEXT')if e is not None]\n",
    "    docno =[e.firstChild.data for e in  doc.getElementsByTagName('DOCNO')if e is not None]\n",
    "    return {'docno' : ' '.join(docno), 'text' : ' '.join( title + keywords + text)}"
   ]
  },
  {
   "cell_type": "code",
   "execution_count": 14,
   "metadata": {},
   "outputs": [],
   "source": [
    "def read_AGZ(path):\n",
    "    global bad_docs\n",
    "    try:\n",
    "        doc = read_xml(path)\n",
    "    except Exception as e:\n",
    "        print(e, docno)\n",
    "        bad_docs.append(path)\n",
    "        return {'docno' : '', 'text' : ''}\n",
    "    title = [e.firstChild.data for e in doc.getElementsByTagName('TI')if e is not None]\n",
    "    keywords = [e.firstChild.data for e in doc.getElementsByTagName('KW')if e is not None]\n",
    "    abstract = [e.firstChild.data for e in doc.getElementsByTagName('LD')if e is not None]\n",
    "    text = [e.firstChild.data for e in doc.getElementsByTagName('TX')if e is not None]\n",
    "    docno =[e.firstChild.data for e in  doc.getElementsByTagName('DOCNO')if e is not None]\n",
    "    return {'docno' : ' '.join(docno), 'text' : ' '.join(keywords + title + abstract + text)}"
   ]
  },
  {
   "cell_type": "code",
   "execution_count": 20,
   "metadata": {},
   "outputs": [],
   "source": [
    "def doc_generator(lang_list):\n",
    "    for g in lang_list:\n",
    "        path = corpora_path + '/' + g + '/'\n",
    "        for f in os.listdir(path):\n",
    "            if 'SDA' in g:\n",
    "                yield read_SDA(path + f)\n",
    "            elif 'LATIMES' in g:\n",
    "                yield read_LATIMES(path + f)\n",
    "            elif \"GLASGOW\" in g:\n",
    "                yield read_GLASGOW(path + f)\n",
    "            elif 'EFE' in g:\n",
    "                yield read_EFE(path + f)\n",
    "            elif 'LEMONDE' in g:\n",
    "                yield read_LEMONDE(path + f)\n",
    "            elif \"ATS\" in g:\n",
    "                yield read_ATS(path + f) \n",
    "            elif \"FR\" in g:                \n",
    "                yield read_FRANKFURTER(path + f)\n",
    "            elif 'SP' in g:\n",
    "                yield read_SPIEGEL(path, f)\n",
    "            elif 'AGZ' in g:\n",
    "                yield read_AGZ(path + f)\n",
    "            elif 'LASTAMPA' in g:\n",
    "                yield read_LASTAMPA(path + f)"
   ]
  },
  {
   "cell_type": "code",
   "execution_count": null,
   "metadata": {},
   "outputs": [],
   "source": [
    "def create_index(index_path, corpora_list, tokenizer = None, stemmer = None):\n",
    "    indexer = pt.IterDictIndexer(index_path, overwrite = True, threads = 16, blocks = True)\n",
    "    if tokenizer is not None:\n",
    "        indexer.setProperty('tokeniser', tokenizer)\n",
    "        indexer.setProperty('termpipelines', stemmer)\n",
    "    index_ref = indexer.index(doc_generator(corpora_list), meta = ['docno'], meta_lengths=[1000])\n",
    "    return index_ref"
   ]
  }
 ],
 "metadata": {
  "interpreter": {
   "hash": "31f2aee4e71d21fbe5cf8b01ff0e069b9275f58929596ceb00d14d90e3e16cd6"
  },
  "kernelspec": {
   "display_name": "Python 3.8.10 64-bit",
   "language": "python",
   "name": "python3"
  },
  "language_info": {
   "codemirror_mode": {
    "name": "ipython",
    "version": 3
   },
   "file_extension": ".py",
   "mimetype": "text/x-python",
   "name": "python",
   "nbconvert_exporter": "python",
   "pygments_lexer": "ipython3",
   "version": "3.8.10"
  },
  "orig_nbformat": 4
 },
 "nbformat": 4,
 "nbformat_minor": 2
}
